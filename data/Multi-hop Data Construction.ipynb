{
 "cells": [
  {
   "cell_type": "code",
   "execution_count": 5,
   "metadata": {},
   "outputs": [],
   "source": [
    "import json\n",
    "import random\n",
    "import requests \n",
    "import pandas as pd"
   ]
  },
  {
   "attachments": {},
   "cell_type": "markdown",
   "metadata": {},
   "source": [
    "Data Generation from 2WikiMultiHop"
   ]
  },
  {
   "cell_type": "code",
   "execution_count": 3,
   "metadata": {},
   "outputs": [],
   "source": [
    "\n",
    "\n",
    "def download_url(url, save_path, chunk_size=128):\n",
    "    r = requests.get(url, stream=True)\n",
    "    with open(save_path, 'wb') as fd:\n",
    "        for chunk in r.iter_content(chunk_size=chunk_size):\n",
    "            fd.write(chunk)\n",
    "\n",
    "download_url(url=\"https://www.dropbox.com/s/ms2m13252h6xubs/data_ids_april7.zip\", save_path=\"/Users/aswathyajith/dev/research/mech-int/data/2WMHdata.zip\")"
   ]
  },
  {
   "cell_type": "code",
   "execution_count": 6,
   "metadata": {},
   "outputs": [],
   "source": [
    "file_name = \"../data/raw/2WikiMultiHop/dev.json\"\n",
    "with open(file_name, 'r') as f:\n",
    "    dev_2wmh = json.load(f)\n",
    "\n",
    "    # get a random 100 sample of compositional type questions\n",
    "    comp_dev = [qn for qn in dev_2wmh if qn['type']=='compositional']\n",
    "    random.seed(42)\n",
    "    comp_100 = random.sample(comp_dev, 100)"
   ]
  },
  {
   "cell_type": "code",
   "execution_count": 27,
   "metadata": {},
   "outputs": [],
   "source": [
    "# Function for verbalizing the fact triple\n",
    "def verbalize_triples(triple1, triple2, explicit=True):\n",
    "    s1, r1, o1 = triple1\n",
    "    triple1_phrase = f\"the {r1} of {s1}\"\n",
    "\n",
    "    s2, r2, o2 = triple2\n",
    "    if not explicit:\n",
    "        s2 = triple1_phrase\n",
    "        \n",
    "    triple2_phrase = {\n",
    "        \"inception\": f\"The {r2} of {s2} was in\", \n",
    "        \"founded by\": f\"The {s2} was {r2}\",\n",
    "        \"educated at\": f\"{s2} was {r2}\", \n",
    "        \"has part\": f\"{o2} is a part of {s2}.\",\n",
    "        \"award received\": f\"{s2} received the\",\n",
    "        \"default\": f\"The {r2} of {s2} is\"\n",
    "\n",
    "    }\n",
    "    if r2 not in triple2_phrase:\n",
    "        r2 = 'default'\n",
    "    \n",
    "    sent = triple2_phrase[r2]\n",
    "    sent = sent[0].upper() + sent[1:] # Capitalize first letter \n",
    "    return sent"
   ]
  },
  {
   "cell_type": "code",
   "execution_count": 30,
   "metadata": {},
   "outputs": [],
   "source": [
    "# comp_dev[0]['evidences']\n",
    "data = []\n",
    "\n",
    "# construct dataset of question, answer, triples\n",
    "for instance in comp_100:\n",
    "    question = instance['question']\n",
    "    fact_1 = instance['evidences'][0]\n",
    "    fact_2 = instance['evidences'][1]\n",
    "    explicit = verbalize_triples(fact_1, fact_2, True)\n",
    "    obscure = verbalize_triples(fact_1, fact_2, False)\n",
    "    answer = instance['answer']\n",
    "\n",
    "    instance_dict = {\n",
    "        'explicit_sent': explicit, \n",
    "        'obscure_sent': obscure,\n",
    "        'explicit_entity': fact_2[0], \n",
    "        'obscure_entity': f\"the {fact_1[1]} of {fact_1[0]}\",\n",
    "        'fact1': fact_1, \n",
    "        'fact2': fact_2,\n",
    "        'answer': answer\n",
    "    }\n",
    "    \n",
    "    data.append(instance_dict)\n",
    "\n",
    "df = pd.DataFrame(data)"
   ]
  },
  {
   "cell_type": "code",
   "execution_count": 31,
   "metadata": {},
   "outputs": [],
   "source": [
    "df.to_csv(\"../data/multi_hop_100.csv\")"
   ]
  },
  {
   "cell_type": "code",
   "execution_count": null,
   "metadata": {},
   "outputs": [],
   "source": []
  }
 ],
 "metadata": {
  "kernelspec": {
   "display_name": "cot",
   "language": "python",
   "name": "python3"
  },
  "language_info": {
   "codemirror_mode": {
    "name": "ipython",
    "version": 3
   },
   "file_extension": ".py",
   "mimetype": "text/x-python",
   "name": "python",
   "nbconvert_exporter": "python",
   "pygments_lexer": "ipython3",
   "version": "3.10.8 (main, Nov 24 2022, 08:09:04) [Clang 14.0.6 ]"
  },
  "orig_nbformat": 4,
  "vscode": {
   "interpreter": {
    "hash": "179295b5eeb85cd4da15c4408b6fbe65a29b9e5b1ad7de257dbf45d300cd7b6e"
   }
  }
 },
 "nbformat": 4,
 "nbformat_minor": 2
}
